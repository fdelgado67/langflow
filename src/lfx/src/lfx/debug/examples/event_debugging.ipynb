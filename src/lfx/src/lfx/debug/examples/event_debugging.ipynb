{
 "cells": [
  {
   "cell_type": "markdown",
   "metadata": {},
   "source": ["# Graph Event System Examples\n", "\n", "**All examples print actual event output!**"]
  },
  {
   "cell_type": "code",
   "execution_count": null,
   "metadata": {},
   "outputs": [],
   "source": [
    "from lfx.debug.event_recorder import record_graph_with_events\n",
    "from lfx.debug.events import GraphMutationEvent\n",
    "from lfx.graph import Graph\n",
    "import json"
   ]
  },
  {
   "cell_type": "markdown",
   "metadata": {},
   "source": ["## Example 1: Dependency Events\n", "\n", "The most important event - when run_predecessors and run_map change."]
  },
  {
   "cell_type": "code",
   "execution_count": null,
   "metadata": {},
   "outputs": [],
   "source": [
    "# Direct API call to see dependency events\n",
    "graph = Graph()\n",
    "\n",
    "async def print_deps(event: GraphMutationEvent):\n",
    "    if event.event_type == 'dependency_added':\n",
    "        print(f\"\\n{event.timing.upper()} Event (Step {event.step}):\")\n",
    "        print(f\"  Vertex: {event.changes['vertex']}\")\n",
    "        print(f\"  Predecessor: {event.changes['predecessor']}\")\n",
    "        \n",
    "        if event.timing == 'after':\n",
    "            print(f\"\\n  State AFTER mutation:\")\n",
    "            print(json.dumps(event.state_after, indent=4))\n",
    "            print(f\"\\n  ✅ run_predecessors changed: {event.changes['run_predecessors_changed']}\")\n",
    "            print(f\"  ✅ run_map changed: {event.changes['run_map_changed']}\")\n",
    "\n",
    "graph.register_observer(print_deps)\n",
    "\n",
    "print('Calling graph.add_dynamic_dependency(\"ComponentA\", \"ComponentB\")...')\n",
    "await graph.add_dynamic_dependency('ComponentA', 'ComponentB')\n",
    "\n",
    "print('\\n💡 Both structures updated atomically - impossible to desync!')"
   ]
  },
  {
   "cell_type": "markdown",
   "metadata": {},
   "source": ["## Example 2: Queue Events\n", "\n", "See how the execution queue changes."]
  },
  {
   "cell_type": "code",
   "execution_count": null,
   "metadata": {},
   "outputs": [],
   "source": [
    "graph2 = Graph()\n",
    "\n",
    "async def print_queue(event: GraphMutationEvent):\n",
    "    if 'queue' in event.event_type and event.timing == 'after':\n",
    "        before_size = event.changes.get('queue_size_before', 0)\n",
    "        after_size = event.changes.get('queue_size_after', 0)\n",
    "        \n",
    "        print(f\"Step {event.step}: {event.event_type}\")\n",
    "        print(f\"  Queue: {before_size} → {after_size} items\")\n",
    "        \n",
    "        if event.changes.get('added'):\n",
    "            print(f\"  Added: {event.changes['added']}\")\n",
    "        if event.changes.get('removed'):\n",
    "            print(f\"  Removed: {event.changes['removed']}\")\n",
    "\n",
    "graph2.register_observer(print_queue)\n",
    "\n",
    "await graph2.extend_run_queue(['v1', 'v2'])\n",
    "await graph2.extend_run_queue(['v3'])\n",
    "await graph2.get_next_in_queue()"
   ]
  },
  {
   "cell_type": "markdown",
   "metadata": {},
   "source": ["## Example 3: Vertex State Events\n", "\n", "When vertices change state (ACTIVE/INACTIVE)."]
  },
  {
   "cell_type": "code",
   "execution_count": null,
   "metadata": {},
   "outputs": [],
   "source": [
    "from lfx import components as cp\n",
    "from lfx.graph.vertex.base import VertexStates\n",
    "\n",
    "# Create a graph with vertices\n",
    "inp = cp.ChatInput()\n",
    "out = cp.ChatOutput().set(input_value=inp.message_response)\n",
    "graph3 = Graph(inp, out)\n",
    "graph3.prepare()\n",
    "\n",
    "async def print_states(event: GraphMutationEvent):\n",
    "    if event.event_type == 'vertex_marked' and event.timing == 'after':\n",
    "        vertex = event.vertex_id.split('-')[0] if event.vertex_id else '?'\n",
    "        old = event.changes.get('old_state')\n",
    "        new = event.changes.get('new_state')\n",
    "        print(f\"Step {event.step}: {vertex} state {old} → {new}\")\n",
    "\n",
    "graph3.register_observer(print_states)\n",
    "\n",
    "# Manually mark a vertex to trigger event\n",
    "vertex_id = graph3.vertices[0].id\n",
    "print(f'Marking {vertex_id.split(\"-\")[0]} as INACTIVE...')\n",
    "await graph3.mark_vertex(vertex_id, VertexStates.INACTIVE)"
   ]
  },
  {
   "cell_type": "markdown",
   "metadata": {},
   "source": ["## Example 4: Complete Event Structure\n", "\n", "See all fields in an event."]
  },
  {
   "cell_type": "code",
   "execution_count": null,
   "metadata": {},
   "outputs": [],
   "source": [
    "# Record a simple flow\n",
    "recording = await record_graph_with_events(Graph(inp, out), 'Demo')\n",
    "\n",
    "print(f'Captured {len(recording.events)} events')\n",
    "\n",
    "# Show complete structure of first event\n",
    "if recording.events:\n",
    "    print('\\nComplete event structure:')\n",
    "    print(json.dumps(recording.events[0].to_dict(), indent=2, default=str))"
   ]
  },
  {
   "cell_type": "markdown",
   "metadata": {},
   "source": ["## Summary\n", "\n", "**Key Event Types:**\n", "- `dependency_added`: run_predecessors & run_map updated\n", "- `vertex_marked`: State changes (ACTIVE/INACTIVE)\n", "- `queue_extended/dequeued`: Queue operations\n", "\n", "**Every event contains:**\n", "- state_before & state_after\n", "- changes (what changed)\n", "- graph_snapshot (complete context)\n", "- timing (before/after)\n", "\n", "**Benefits:**\n", "- Zero overhead without observers\n", "- Complete state history\n", "- Impossible to desync structures\n", "- Extensible for custom tracking"]
  }
 ],
 "metadata": {"kernelspec": {"display_name": "Python 3", "language": "python", "name": "python3"}},
 "nbformat": 4,
 "nbformat_minor": 4
}
