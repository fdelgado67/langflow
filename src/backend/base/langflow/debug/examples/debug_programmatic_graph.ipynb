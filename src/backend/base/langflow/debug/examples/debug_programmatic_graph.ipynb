{
 "cells": [
  {
   "cell_type": "markdown",
   "metadata": {},
   "source": [
    "# Debug Programmatically Built Graphs\n",
    "\n",
    "This notebook shows how to use the recorder to debug graphs you build from Python code."
   ]
  },
  {
   "cell_type": "code",
   "execution_count": 1,
   "metadata": {},
   "outputs": [
    {
     "name": "stderr",
     "output_type": "stream",
     "text": [
      "/Users/ogabrielluiz/Projects/langflow/.venv/lib/python3.13/site-packages/tqdm/auto.py:21: TqdmWarning: IProgress not found. Please update jupyter and ipywidgets. See https://ipywidgets.readthedocs.io/en/stable/user_install.html\n",
      "  from .autonotebook import tqdm as notebook_tqdm\n"
     ]
    }
   ],
   "source": [
    "from lfx import components as cp\n",
    "from lfx.graph import Graph\n",
    "from langflow.debug.recorder import record_graph"
   ]
  },
  {
   "cell_type": "markdown",
   "metadata": {},
   "source": [
    "## Build a Simple Graph\n",
    "\n",
    "Let's create a simple flow: ChatInput → Prompt → ChatOutput"
   ]
  },
  {
   "cell_type": "code",
   "execution_count": 2,
   "metadata": {},
   "outputs": [
    {
     "name": "stdout",
     "output_type": "stream",
     "text": [
      "✅ Built graph with 3 components\n"
     ]
    }
   ],
   "source": [
    "# Build graph from components\n",
    "chat_input = cp.ChatInput()\n",
    "prompt = cp.PromptComponent()\n",
    "prompt.set(\n",
    "    template=\"You are a helpful assistant. User says: {input}\",\n",
    "    input_text=chat_input.message_response\n",
    ")\n",
    "chat_output = cp.ChatOutput().set(input_value=prompt.build_prompt)\n",
    "\n",
    "graph = Graph(chat_input, chat_output)\n",
    "\n",
    "print(f\"✅ Built graph with {len(graph.vertices)} components\")"
   ]
  },
  {
   "cell_type": "markdown",
   "metadata": {},
   "source": [
    "## Record the Graph Execution"
   ]
  },
  {
   "cell_type": "code",
   "execution_count": 3,
   "metadata": {},
   "outputs": [
    {
     "name": "stdout",
     "output_type": "stream",
     "text": [
      "✅ Recorded 3 component executions\n",
      "Recorded 3 steps\n"
     ]
    }
   ],
   "source": [
    "# Record the graph directly!\n",
    "recording = await record_graph(graph, flow_name=\"My Simple Flow\")\n",
    "\n",
    "print(f\"Recorded {len(recording.snapshots)} steps\")"
   ]
  },
  {
   "cell_type": "markdown",
   "metadata": {},
   "source": [
    "## Explore the Timeline"
   ]
  },
  {
   "cell_type": "code",
   "execution_count": 4,
   "metadata": {},
   "outputs": [
    {
     "name": "stdout",
     "output_type": "stream",
     "text": [
      "\n",
      "================================================================================\n",
      "Execution Timeline: My Simple Flow\n",
      "Method: async_start\n",
      "================================================================================\n",
      "\n",
      "Total components: 3\n",
      "Current position: 0\n",
      "\n",
      "Timeline:\n",
      "👉 [  0] ✅ ChatInput\n",
      "   [  1] ✅ PromptComponent\n",
      "   [  2] ✅ ChatOutput\n",
      "\n"
     ]
    }
   ],
   "source": [
    "recording.show_timeline()"
   ]
  },
  {
   "cell_type": "markdown",
   "metadata": {},
   "source": [
    "## Navigate and Inspect State"
   ]
  },
  {
   "cell_type": "code",
   "execution_count": 5,
   "metadata": {},
   "outputs": [
    {
     "name": "stdout",
     "output_type": "stream",
     "text": [
      "✅ Jumped to step 1: PromptComponent\n",
      "\n",
      "================================================================================\n",
      "State at Step 1: PromptComponent\n",
      "================================================================================\n",
      "\n",
      "Component: PromptComponent-PH6ej\n",
      "Step: 1\n",
      "\n",
      "Inputs:\n",
      "  code: from lfx.base.prompts.api_utils import process_prompt_templa...\n",
      "  input: ...\n",
      "  input_text: {\n",
      "    \"text\": \"\",\n",
      "    \"sender\": \"User\",\n",
      "    \"sender_name\": \"...\n",
      "  template: You are a helpful assistant. User says: {input}...\n",
      "  tool_placeholder: ...\n",
      "\n",
      "Queue at this point:\n",
      "  - ChatOutput\n",
      "\n"
     ]
    }
   ],
   "source": [
    "# Jump to a component\n",
    "recording.jump_to(\"Prompt\")\n",
    "recording.show_state()"
   ]
  },
  {
   "cell_type": "markdown",
   "metadata": {},
   "source": [
    "## View State Deltas\n",
    "\n",
    "See what changed at each step"
   ]
  },
  {
   "cell_type": "code",
   "execution_count": 6,
   "metadata": {},
   "outputs": [
    {
     "name": "stdout",
     "output_type": "stream",
     "text": [
      "✅ Jumped to step 0\n",
      "\n",
      "0. ChatInput\n",
      "   + Queued: ['PromptComponent']\n",
      "✅ Jumped to step 1\n",
      "\n",
      "1. PromptComponent\n",
      "   + Queued: ['ChatOutput']\n",
      "   - Dequeued: ['PromptComponent']\n",
      "✅ Jumped to step 2\n",
      "\n",
      "2. ChatOutput\n",
      "   - Dequeued: ['ChatOutput']\n"
     ]
    }
   ],
   "source": [
    "# See deltas for each component\n",
    "for i in range(len(recording.snapshots)):\n",
    "    recording.jump_to(i)\n",
    "    snap = recording.snapshots[i]\n",
    "    delta = snap.get_delta()\n",
    "    \n",
    "    comp_name = snap.vertex_id.split(\"-\")[0]\n",
    "    print(f\"\\n{i}. {comp_name}\")\n",
    "    \n",
    "    if \"queue\" in delta:\n",
    "        q = delta[\"queue\"]\n",
    "        if q[\"added\"]:\n",
    "            print(f\"   + Queued: {[v.split('-')[0] for v in q['added']]}\")\n",
    "        if q[\"removed\"]:\n",
    "            print(f\"   - Dequeued: {[v.split('-')[0] for v in q['removed']]}\")"
   ]
  },
  {
   "cell_type": "markdown",
   "metadata": {},
   "source": [
    "## Advanced Example: Loop Flow\n",
    "\n",
    "Build a flow with a loop component to see more complex state changes"
   ]
  },
  {
   "cell_type": "code",
   "execution_count": 7,
   "metadata": {},
   "outputs": [
    {
     "name": "stdout",
     "output_type": "stream",
     "text": [
      "✅ Recorded 11 component executions\n",
      "\n",
      "Recorded 11 steps\n",
      "\n",
      "================================================================================\n",
      "Execution Timeline: Loop Example\n",
      "Method: async_start\n",
      "================================================================================\n",
      "\n",
      "Total components: 11\n",
      "Current position: 0\n",
      "\n",
      "Timeline:\n",
      "👉 [  0] ✅ DataGenerator\n",
      "   [  1] ✅ LoopComponent\n",
      "   [  2] ✅ ParseDataComponent\n",
      "   [  3] ✅ LoopComponent\n",
      "   [  4] ✅ ParseDataComponent\n",
      "   [  5] ✅ LoopComponent\n",
      "   [  6] ✅ ParseDataComponent\n",
      "   [  7] ✅ LoopComponent\n",
      "   [  8] ✅ ParseDataComponent\n",
      "   [  9] ✅ LoopComponent\n",
      "   [ 10] ❌ ParseDataComponent\n",
      "\n"
     ]
    }
   ],
   "source": [
    "from lfx.custom import Component\n",
    "from lfx.io import Output\n",
    "from lfx.schema.data import Data\n",
    "from lfx.schema.dataframe import DataFrame\n",
    "\n",
    "# Create a custom component that generates data\n",
    "class DataGenerator(Component):\n",
    "    outputs = [Output(name=\"output\", method=\"generate\")]\n",
    "    \n",
    "    def generate(self) -> DataFrame:\n",
    "        return DataFrame([Data(text=f\"Item {i}\") for i in range(5)])\n",
    "\n",
    "# Build loop flow with feedback (like LoopTest.json)\n",
    "generator = DataGenerator()\n",
    "loop = cp.LoopComponent()\n",
    "loop.set(data=generator.generate)\n",
    "\n",
    "# Downstream processing (item output → parse → back to loop)\n",
    "parse = cp.ParseDataComponent()\n",
    "parse.set(data=loop.item_output, template=\"{text}\")\n",
    "\n",
    "# Feedback: parse result goes back to loop.item input\n",
    "loop.set(item=parse.parse_data_as_list)\n",
    "\n",
    "# Final output when loop is done\n",
    "chat_output = cp.ChatOutput().set(input_value=loop.done_output)\n",
    "\n",
    "loop_graph = Graph(generator, chat_output)\n",
    "\n",
    "# Record it\n",
    "loop_recording = await record_graph(loop_graph, flow_name=\"Loop Example\")\n",
    "\n",
    "print(f\"\\nRecorded {len(loop_recording.snapshots)} steps\")\n",
    "loop_recording.show_timeline()"
   ]
  },
  {
   "cell_type": "markdown",
   "metadata": {},
   "source": [
    "## Inspect Loop Iterations"
   ]
  },
  {
   "cell_type": "code",
   "execution_count": 8,
   "metadata": {},
   "outputs": [
    {
     "name": "stdout",
     "output_type": "stream",
     "text": [
      "Loop executed at steps: [1, 3, 5, 7, 9]\n",
      "\n",
      "✅ Jumped to step 1\n",
      "Iteration 0 (step 1):\n",
      "   run_map modified: dict_keys(['LoopComponent-CRpU6', 'DataGenerator-FdMLX'])\n",
      "   Queue changes: +1 -1\n",
      "\n",
      "✅ Jumped to step 3\n",
      "Iteration 1 (step 3):\n",
      "   run_map modified: dict_keys(['LoopComponent-CRpU6'])\n",
      "   Queue changes: +1 -1\n",
      "\n",
      "✅ Jumped to step 5\n",
      "Iteration 2 (step 5):\n",
      "   Queue changes: +1 -1\n",
      "\n"
     ]
    }
   ],
   "source": [
    "# Find all loop executions\n",
    "loop_steps = [\n",
    "    i for i, snap in enumerate(loop_recording.snapshots)\n",
    "    if \"Loop\" in snap.vertex_id\n",
    "]\n",
    "\n",
    "print(f\"Loop executed at steps: {loop_steps}\\n\")\n",
    "\n",
    "# Inspect each loop iteration\n",
    "for i, step in enumerate(loop_steps[:3]):\n",
    "    loop_recording.jump_to(step)\n",
    "    snap = loop_recording.snapshots[step]\n",
    "    delta = snap.get_delta()\n",
    "    \n",
    "    print(f\"Iteration {i} (step {step}):\")\n",
    "    \n",
    "    # Show what loop changed\n",
    "    if \"run_predecessors\" in delta:\n",
    "        print(f\"   Dependencies modified: {delta['run_predecessors'].keys()}\")\n",
    "    if \"run_map\" in delta:\n",
    "        print(f\"   run_map modified: {delta['run_map'].keys()}\")\n",
    "    if \"queue\" in delta:\n",
    "        print(f\"   Queue changes: +{len(delta['queue']['added'])} -{len(delta['queue']['removed'])}\")\n",
    "    \n",
    "    print()"
   ]
  },
  {
   "cell_type": "markdown",
   "metadata": {},
   "source": [
    "## Save Recording for Later"
   ]
  },
  {
   "cell_type": "code",
   "execution_count": 9,
   "metadata": {},
   "outputs": [
    {
     "name": "stdout",
     "output_type": "stream",
     "text": [
      "✅ Saved recording to my_debug_session.pkl\n"
     ]
    },
    {
     "ename": "TypeError",
     "evalue": "ComponentBuildError.__init__() missing 1 required positional argument: 'formatted_traceback'",
     "output_type": "error",
     "traceback": [
      "\u001b[31m---------------------------------------------------------------------------\u001b[39m",
      "\u001b[31mTypeError\u001b[39m                                 Traceback (most recent call last)",
      "\u001b[36mCell\u001b[39m\u001b[36m \u001b[39m\u001b[32mIn[9]\u001b[39m\u001b[32m, line 6\u001b[39m\n\u001b[32m      4\u001b[39m \u001b[38;5;66;03m# Load it later\u001b[39;00m\n\u001b[32m      5\u001b[39m \u001b[38;5;28;01mfrom\u001b[39;00m\u001b[38;5;250m \u001b[39m\u001b[34;01mlangflow\u001b[39;00m\u001b[34;01m.\u001b[39;00m\u001b[34;01mdebug\u001b[39;00m\u001b[34;01m.\u001b[39;00m\u001b[34;01mrecorder\u001b[39;00m\u001b[38;5;250m \u001b[39m\u001b[38;5;28;01mimport\u001b[39;00m GraphRecording\n\u001b[32m----> \u001b[39m\u001b[32m6\u001b[39m loaded = \u001b[43mGraphRecording\u001b[49m\u001b[43m.\u001b[49m\u001b[43mload\u001b[49m\u001b[43m(\u001b[49m\u001b[33;43m\"\u001b[39;49m\u001b[33;43mmy_debug_session.pkl\u001b[39;49m\u001b[33;43m\"\u001b[39;49m\u001b[43m)\u001b[49m\n\u001b[32m      8\u001b[39m \u001b[38;5;66;03m# Continue debugging\u001b[39;00m\n\u001b[32m      9\u001b[39m loaded.jump_to(\u001b[33m\"\u001b[39m\u001b[33mLoop\u001b[39m\u001b[33m\"\u001b[39m)\n",
      "\u001b[36mFile \u001b[39m\u001b[32m~/Projects/langflow/src/backend/base/langflow/debug/recorder.py:137\u001b[39m, in \u001b[36mGraphRecording.load\u001b[39m\u001b[34m(cls, file_path)\u001b[39m\n\u001b[32m    128\u001b[39m \u001b[38;5;250m\u001b[39m\u001b[33;03m\"\"\"Load a saved recording.\u001b[39;00m\n\u001b[32m    129\u001b[39m \n\u001b[32m    130\u001b[39m \u001b[33;03mArgs:\u001b[39;00m\n\u001b[32m   (...)\u001b[39m\u001b[32m    134\u001b[39m \u001b[33;03m    GraphRecording instance\u001b[39;00m\n\u001b[32m    135\u001b[39m \u001b[33;03m\"\"\"\u001b[39;00m\n\u001b[32m    136\u001b[39m \u001b[38;5;28;01mwith\u001b[39;00m Path(file_path).open(\u001b[33m\"\u001b[39m\u001b[33mrb\u001b[39m\u001b[33m\"\u001b[39m) \u001b[38;5;28;01mas\u001b[39;00m f:\n\u001b[32m--> \u001b[39m\u001b[32m137\u001b[39m     recording = \u001b[43mpickle\u001b[49m\u001b[43m.\u001b[49m\u001b[43mload\u001b[49m\u001b[43m(\u001b[49m\u001b[43mf\u001b[49m\u001b[43m)\u001b[49m  \u001b[38;5;66;03m# noqa: S301\u001b[39;00m\n\u001b[32m    138\u001b[39m \u001b[38;5;28mprint\u001b[39m(\u001b[33mf\u001b[39m\u001b[33m\"\u001b[39m\u001b[33m✅ Loaded recording from \u001b[39m\u001b[38;5;132;01m{\u001b[39;00mfile_path\u001b[38;5;132;01m}\u001b[39;00m\u001b[33m\"\u001b[39m)\n\u001b[32m    139\u001b[39m \u001b[38;5;28;01mreturn\u001b[39;00m recording\n",
      "\u001b[31mTypeError\u001b[39m: ComponentBuildError.__init__() missing 1 required positional argument: 'formatted_traceback'"
     ]
    }
   ],
   "source": [
    "# Save the recording\n",
    "loop_recording.save(\"my_debug_session.pkl\")\n",
    "\n",
    "# Load it later\n",
    "from langflow.debug.recorder import GraphRecording\n",
    "loaded = GraphRecording.load(\"my_debug_session.pkl\")\n",
    "\n",
    "# Continue debugging\n",
    "loaded.jump_to(\"Loop\")\n",
    "loaded.show_state()"
   ]
  },
  {
   "cell_type": "markdown",
   "metadata": {},
   "source": [
    "## Summary\n",
    "\n",
    "**You can now:**\n",
    "- ✅ Build graphs programmatically from components\n",
    "- ✅ Record execution without saving to file\n",
    "- ✅ Jump to any component and inspect state\n",
    "- ✅ See state deltas (queue, dependencies) at each step\n",
    "- ✅ Track loop iterations and progression\n",
    "- ✅ Save/load debug sessions\n",
    "\n",
    "**Key API:**\n",
    "```python\n",
    "# Record\n",
    "recording = await record_graph(graph, flow_name=\"My Flow\")\n",
    "\n",
    "# Navigate\n",
    "recording.jump_to(\"ComponentName\")  # or step number\n",
    "recording.next_step()\n",
    "recording.previous_step()\n",
    "\n",
    "# Inspect\n",
    "recording.show_timeline()\n",
    "recording.show_state()\n",
    "delta = recording.snapshots[i].get_delta()\n",
    "\n",
    "# Save\n",
    "recording.save(\"debug_session.pkl\")\n",
    "```"
   ]
  }
 ],
 "metadata": {
  "kernelspec": {
   "display_name": ".venv",
   "language": "python",
   "name": "python3"
  },
  "language_info": {
   "codemirror_mode": {
    "name": "ipython",
    "version": 3
   },
   "file_extension": ".py",
   "mimetype": "text/x-python",
   "name": "python",
   "nbconvert_exporter": "python",
   "pygments_lexer": "ipython3",
   "version": "3.13.7"
  }
 },
 "nbformat": 4,
 "nbformat_minor": 4
}
